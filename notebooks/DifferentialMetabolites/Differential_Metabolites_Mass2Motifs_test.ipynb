{
 "cells": [
  {
   "cell_type": "markdown",
   "metadata": {},
   "source": [
    "<h1>Differential Metabolites</h1>"
   ]
  },
  {
   "cell_type": "code",
   "execution_count": null,
   "metadata": {
    "collapsed": false
   },
   "outputs": [],
   "source": [
    "%load_ext autoreload\n",
    "%autoreload 2\n",
    "%matplotlib inline\n",
    "\n",
    "import os\n",
    "import sys\n",
    "basedir = '../../'\n",
    "sys.path.append(basedir)\n",
    "\n",
    "from collections import Counter\n",
    "import csv\n",
    "import math\n",
    "\n",
    "import numpy as np\n",
    "import pandas as pd\n",
    "import networkx as nx\n",
    "import pylab as plt\n",
    "\n",
    "import matplotlib as mpl\n",
    "import matplotlib.cm as cm\n",
    "\n",
    "from IPython.display import display\n",
    "from lda_for_fragments import Ms2Lda\n",
    "from visualisation.networkx.lda_visualisation import *\n",
    "\n",
    "# get rid of annoying warnings\n",
    "import warnings\n",
    "warnings.filterwarnings('ignore')"
   ]
  },
  {
   "cell_type": "markdown",
   "metadata": {},
   "source": [
    "<h1>Define analysis method</h1>"
   ]
  },
  {
   "cell_type": "code",
   "execution_count": null,
   "metadata": {
    "collapsed": true
   },
   "outputs": [],
   "source": [
    "def run_analysis(project_file, annotation_file, pimp_file):\n",
    "    \n",
    "    # load m2lda object and do thresholding\n",
    "    ms2lda = Ms2Lda.resume_from(project_file)\n",
    "    ms2lda.do_thresholding(th_doc_topic=0.05, th_topic_word=0.01)\n",
    "\n",
    "    # read the annotation file\n",
    "    print\n",
    "    print \"Annotation file\"\n",
    "    motif_annotation = {}\n",
    "    motif_idx = {}\n",
    "    i = 0\n",
    "    for item in csv.reader(open(annotation_file), skipinitialspace=True):\n",
    "        key = int(item[0])\n",
    "        val = item[1]\n",
    "        print str(key) + \"\\t\" + val\n",
    "        motif_annotation[key] = val\n",
    "        motif_idx[key] = i\n",
    "        i += 1\n",
    "\n",
    "    motifs_of_interest = motif_annotation.keys()    \n",
    "    norm = mpl.colors.Normalize(vmin=min(motif_idx.values()), vmax=max(motif_idx.values()))\n",
    "    cmap = cm.gist_rainbow\n",
    "    motif_colour = cm.ScalarMappable(norm=norm, cmap=cmap)    \n",
    "    \n",
    "    # get the network graph out for the motifs of interest\n",
    "    G = get_network_graph(ms2lda, motifs_of_interest)\n",
    "    print \"\\n\" + nx.info(G)  \n",
    "    print\n",
    "\n",
    "    # print out some info\n",
    "    ms1_count = 0\n",
    "    nodes = G.nodes(data=True)\n",
    "    for node_id, node_data in nodes:\n",
    "        # 1 for doc, 2 for motif\n",
    "        if node_data['group'] == 1: \n",
    "            ms1_count += 1\n",
    "    print \"%d (out of %d) MS1 peaks found in the graph\" % (ms1_count, ms2lda.ms1.shape[0])    \n",
    "    \n",
    "    # load the pimp differential analysis file for matching\n",
    "    de_peaks = []\n",
    "    with open(pimp_file, \"rb\") as infile:\n",
    "       reader = csv.reader(infile)\n",
    "       next(reader, None)  # skip the headers\n",
    "       for row in reader:\n",
    "        PiMP_ID = int(row[0])\n",
    "        polarity = row[1]\n",
    "        mz = float(row[2])\n",
    "        rt = float (row[3])\n",
    "        mh_intensity = float(row[4])\n",
    "        tup = (PiMP_ID, polarity, mz, rt, mh_intensity)\n",
    "        de_peaks.append(tup)\n",
    "\n",
    "    print\n",
    "    print \"PiMP list: \"\n",
    "    for tup in de_peaks:\n",
    "        print tup\n",
    "        \n",
    "    # do the matching\n",
    "    mass_tol = 3\n",
    "    rt_tol = 12\n",
    "\n",
    "    std = np.array(de_peaks)\n",
    "    std_mz = np.array([x[2] for x in de_peaks])\n",
    "    std_rt = np.array([x[3] for x in de_peaks])\n",
    "    matches = {}\n",
    "\n",
    "    ms1_label = {}\n",
    "    for row in ms2lda.ms1.itertuples(index=True):\n",
    "        peakid = row[1]\n",
    "        mz = row[5]\n",
    "        rt = row[4]\n",
    "\n",
    "        # the following line is hacky for pos mode data\n",
    "        mass_delta = mz*mass_tol*1e-6\n",
    "        mass_start = mz-mass_delta\n",
    "        mass_end = mz+mass_delta\n",
    "        rt_start = rt-rt_tol\n",
    "        rt_end = rt+rt_tol\n",
    "\n",
    "        match_mass = (std_mz>mass_start) & (std_mz<mass_end)\n",
    "        match_rt = (std_rt>rt_start) & (std_rt<rt_end)\n",
    "        match = match_mass & match_rt\n",
    "\n",
    "        res = std[match]\n",
    "        if len(res) == 1:\n",
    "            closest = tuple(res[0])\n",
    "            matches[closest] = row\n",
    "            ms1_label[row[1]] = closest[1]        \n",
    "        elif len(res)>1:\n",
    "            closest = None\n",
    "            min_dist = sys.maxint\n",
    "            for match_res in res:\n",
    "                match_mz = float(match_res[2])\n",
    "                match_rt = float(match_res[3])\n",
    "                dist = math.sqrt((match_rt-rt)**2 + (match_mz-mz)**2)\n",
    "                if dist < min_dist:\n",
    "                    min_dist = dist\n",
    "                    closest = match_res\n",
    "            closest = tuple(closest)\n",
    "            matches[closest] = row\n",
    "            ms1_label[row[1]] = closest[1]\n",
    "\n",
    "    print \"Matches found %d/%d\" % (len(matches), len(std))\n",
    "    print\n",
    "\n",
    "    ms1_list = []\n",
    "    for match in matches:\n",
    "        key = str(match)\n",
    "        ms1_row = matches[match]\n",
    "        value = str(ms1_row)\n",
    "        pid = ms1_row[1]\n",
    "        print \"Standard %s\" % key\n",
    "        print \"MS1 %s\" % value\n",
    "        print\n",
    "        ms1_list.append(pid)\n",
    "        \n",
    "    # print the motifs and count their occurences\n",
    "    m2m_list = motifs_of_interest\n",
    "    word_map, motif_words = ms2lda.print_motif_features(quiet=True)\n",
    "\n",
    "    c = Counter() # count the motif occurences\n",
    "    for i in range(len(ms1_list)):\n",
    "\n",
    "        ms1 = ms1_list[i]\n",
    "        df = print_report(ms2lda, G, ms1, motif_annotation, motif_words, motif_colour, motif_idx, word_map, xlim_upper=770)\n",
    "        if df is not None:\n",
    "\n",
    "            # display(df) # show the table to see the mz, annotations, etc\n",
    "\n",
    "            # get the motif ids in the dataframe\n",
    "            fragment_motif_ids = df[['fragment_motif']].values.flatten()\n",
    "            loss_motif_ids = df[['loss_motif']].values.flatten()\n",
    "\n",
    "            # get rid of nan values\n",
    "            fragment_motif_ids = fragment_motif_ids[~np.isnan(fragment_motif_ids)]\n",
    "            loss_motif_ids = loss_motif_ids[~np.isnan(loss_motif_ids)]\n",
    "\n",
    "            # store the unique counts\n",
    "            combined = np.append(fragment_motif_ids, loss_motif_ids).astype(int)\n",
    "            combined = set(combined.tolist())\n",
    "            c.update(combined)\n",
    "            \n",
    "    return c"
   ]
  },
  {
   "cell_type": "code",
   "execution_count": null,
   "metadata": {
    "collapsed": true
   },
   "outputs": [],
   "source": [
    "def plot_counts(c):\n",
    "    \n",
    "    motifs = []\n",
    "    counts = []\n",
    "    for key, value in c.most_common(): # iterated in descending order\n",
    "        if value > 1:\n",
    "            motifs.append(key)\n",
    "            counts.append(value)\n",
    "\n",
    "    motifs = np.array(motifs)\n",
    "    counts = np.array(counts)\n",
    "\n",
    "    print motifs\n",
    "    print counts\n",
    "    \n",
    "    ind = np.arange(len(motifs))\n",
    "    width = 0.8\n",
    "    fig, ax = plt.subplots()\n",
    "    ax.bar(ind, counts, width, color='b')\n",
    "\n",
    "    ax.set_ylabel('Counts')\n",
    "    ax.set_xlabel('M2M')\n",
    "    ax.set_title('Motif Counts')\n",
    "    _ = ax.set_xticks(ind + width)\n",
    "    _ = ax.set_xticklabels(motifs)\n",
    "    labels = ax.get_xticklabels()\n",
    "    _ = plt.setp(labels, rotation=90, fontsize=14)"
   ]
  },
  {
   "cell_type": "markdown",
   "metadata": {},
   "source": [
    "<h2>Differential metabolites BeerQC (4) UP vs Beer3</h2>"
   ]
  },
  {
   "cell_type": "markdown",
   "metadata": {},
   "source": [
    "Trying to find all the peaks in the differential metabolites (UP) list and plotting their motifs.."
   ]
  },
  {
   "cell_type": "code",
   "execution_count": null,
   "metadata": {
    "collapsed": true
   },
   "outputs": [],
   "source": [
    "project_file = 'results/Manuscript_BeerQCPOSmode_EFassigner_ALLextended.project'\n",
    "annotation_file = 'results/beer4pos_annotation_Nov2015.csv'\n",
    "pimp_file = 'results/DifferentialMetabolites_BeerQC.csv'"
   ]
  },
  {
   "cell_type": "code",
   "execution_count": null,
   "metadata": {
    "collapsed": false
   },
   "outputs": [],
   "source": [
    "c = run_analysis(project_file, annotation_file, pimp_file)"
   ]
  },
  {
   "cell_type": "code",
   "execution_count": null,
   "metadata": {
    "collapsed": false
   },
   "outputs": [],
   "source": [
    "plot_counts(c)"
   ]
  },
  {
   "cell_type": "markdown",
   "metadata": {},
   "source": [
    "<h2>Differential metabolites Beer3 UP vs Beer QC</h2>"
   ]
  },
  {
   "cell_type": "code",
   "execution_count": null,
   "metadata": {
    "collapsed": true
   },
   "outputs": [],
   "source": [
    "project_file = 'results/Manuscript_Beer3POSmode_EFassigner_ALLextended.project'\n",
    "annotation_file = 'results/beer3pos_annotation_Nov2015.csv'\n",
    "pimp_file = 'results/DifferentialMetabolites_Beer3.csv'"
   ]
  },
  {
   "cell_type": "code",
   "execution_count": null,
   "metadata": {
    "collapsed": false
   },
   "outputs": [],
   "source": [
    "c = run_analysis(project_file, annotation_file, pimp_file)"
   ]
  },
  {
   "cell_type": "code",
   "execution_count": null,
   "metadata": {
    "collapsed": false
   },
   "outputs": [],
   "source": [
    "plot_counts(c)"
   ]
  },
  {
   "cell_type": "code",
   "execution_count": null,
   "metadata": {
    "collapsed": true
   },
   "outputs": [],
   "source": []
  }
 ],
 "metadata": {
  "kernelspec": {
   "display_name": "Python 2",
   "language": "python",
   "name": "python2"
  },
  "language_info": {
   "codemirror_mode": {
    "name": "ipython",
    "version": 2
   },
   "file_extension": ".py",
   "mimetype": "text/x-python",
   "name": "python",
   "nbconvert_exporter": "python",
   "pygments_lexer": "ipython2",
   "version": "2.7.11"
  }
 },
 "nbformat": 4,
 "nbformat_minor": 0
}
