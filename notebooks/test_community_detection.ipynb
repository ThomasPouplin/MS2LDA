{
 "cells": [
  {
   "cell_type": "code",
   "execution_count": null,
   "metadata": {
    "collapsed": false
   },
   "outputs": [],
   "source": [
    "%load_ext autoreload\n",
    "%autoreload 2\n",
    "%matplotlib inline\n",
    "\n",
    "import networkx as nx\n",
    "import matplotlib.pyplot as plt\n",
    "from matplotlib import cm\n",
    "import sys\n",
    "import numpy as np\n",
    "\n",
    "basedir = '../'\n",
    "sys.path.append(basedir)\n",
    "\n",
    "from lda_for_fragments import Ms2Lda\n",
    "import visualisation.networkx.community as community\n",
    "import visualisation.networkx.lda_visualisation as vis_util\n",
    "from visualisation.pylab.lda_for_fragments_viz import Ms2Lda_Viz"
   ]
  },
  {
   "cell_type": "markdown",
   "metadata": {},
   "source": [
    "<h1>Community detection demo</h1>"
   ]
  },
  {
   "cell_type": "markdown",
   "metadata": {},
   "source": [
    "Load some karate club graph."
   ]
  },
  {
   "cell_type": "code",
   "execution_count": null,
   "metadata": {
    "collapsed": false
   },
   "outputs": [],
   "source": [
    "# load some data\n",
    "G = nx.karate_club_graph()\n",
    "print G\n",
    "print \"nodes = \" + str(G.nodes())\n",
    "nx.draw(G)"
   ]
  },
  {
   "cell_type": "markdown",
   "metadata": {},
   "source": [
    "Partition the graph into several 'communities' based on modularity (https://en.wikipedia.org/wiki/Modularity_(networks)). \n",
    "\n",
    "Using the algorithm from Blondel, Vincent D., et al. \"Fast unfolding of communities in large networks.\" Journal of Statistical Mechanics: Theory and Experiment 2008.10 (2008): P10008. http://arxiv.org/pdf/0803.0476.pdf"
   ]
  },
  {
   "cell_type": "code",
   "execution_count": null,
   "metadata": {
    "collapsed": false
   },
   "outputs": [],
   "source": [
    "def find_community(G):\n",
    "    print \"Finding community\"\n",
    "    partition = community.best_partition(G)\n",
    "    count = list(set([i for i in partition.values()]))\n",
    "    print \"Number of communities found = \" + str(len(count))\n",
    "    return partition\n",
    "\n",
    "partition = find_community(G)\n",
    "print \"Partition = \" + str(partition)"
   ]
  },
  {
   "cell_type": "markdown",
   "metadata": {},
   "source": [
    "Visualise the communities"
   ]
  },
  {
   "cell_type": "code",
   "execution_count": null,
   "metadata": {
    "collapsed": false
   },
   "outputs": [],
   "source": [
    "def plot_community(G, partition):\n",
    "    size = float(len(set(partition.values())))\n",
    "    count = 0.\n",
    "    for com in set(partition.values()) :\n",
    "        count = count + 1.\n",
    "        list_nodes = [nodes for nodes in partition.keys()\n",
    "                                    if partition[nodes] == com]\n",
    "        print \"Community \" + str(com) + \" = \" + str(list_nodes)\n",
    "        H = G.subgraph(list_nodes)\n",
    "        pos = nx.spring_layout(H)\n",
    "        nx.draw_networkx_nodes(H, pos, list_nodes, node_size = 200,\n",
    "                                    node_color = str(count / size))\n",
    "        nx.draw_networkx_edges(H, pos, alpha=0.5)\n",
    "        plt.show()"
   ]
  },
  {
   "cell_type": "code",
   "execution_count": null,
   "metadata": {
    "collapsed": false
   },
   "outputs": [],
   "source": [
    "plot_community(G, partition)"
   ]
  },
  {
   "cell_type": "markdown",
   "metadata": {},
   "source": [
    "<h1>Beer3pos Data</h1>"
   ]
  },
  {
   "cell_type": "markdown",
   "metadata": {},
   "source": [
    "Now we do a similar analysis but with our topics data. Basically we want to check to see if there are terms that these topics share in common. If these exist and they make some biological sense, we can learn this through some form of hierarchical modelling. Otherwise, it's no go.\n",
    "\n",
    "First, we load our beer3pos LDA results and do some thresholding as usual."
   ]
  },
  {
   "cell_type": "code",
   "execution_count": null,
   "metadata": {
    "collapsed": false
   },
   "outputs": [],
   "source": [
    "ms2lda = Ms2Lda.resume_from('results/beer3pos.project')"
   ]
  },
  {
   "cell_type": "code",
   "execution_count": null,
   "metadata": {
    "collapsed": true
   },
   "outputs": [],
   "source": [
    "ms2lda.do_thresholding(th_doc_topic=0.05, th_topic_word=0.01)"
   ]
  },
  {
   "cell_type": "markdown",
   "metadata": {},
   "source": [
    "Then we create a network graph of topics relationship. Nodes in the graph are topics and the terms. An edge is drawn from topic to term if the term is 'present' in the thresholded topic distribution."
   ]
  },
  {
   "cell_type": "code",
   "execution_count": null,
   "metadata": {
    "collapsed": true
   },
   "outputs": [],
   "source": [
    "plotter = Ms2Lda_Viz(ms2lda.model, ms2lda.ms1, ms2lda.ms2, ms2lda.docdf, ms2lda.topicdf)"
   ]
  },
  {
   "cell_type": "code",
   "execution_count": null,
   "metadata": {
    "collapsed": false
   },
   "outputs": [],
   "source": [
    "json, G = vis_util.get_json_from_topicdf(plotter.topicdf)"
   ]
  },
  {
   "cell_type": "markdown",
   "metadata": {},
   "source": [
    "So we end up with a messy graph here. Then we run community detection algorithm on the graph. The idea here is that hopefully, within each community, the set of terms (fragment/loss words) that topics share might represent some chemical meaning??"
   ]
  },
  {
   "cell_type": "code",
   "execution_count": null,
   "metadata": {
    "collapsed": false
   },
   "outputs": [],
   "source": [
    "node_names = {}\n",
    "for n in G.nodes():\n",
    "    name = G.node[n]['name']\n",
    "    node_names[n] = name\n",
    "partition = find_community(G)"
   ]
  },
  {
   "cell_type": "markdown",
   "metadata": {},
   "source": [
    "Define a plotting function .."
   ]
  },
  {
   "cell_type": "code",
   "execution_count": null,
   "metadata": {
    "collapsed": false
   },
   "outputs": [],
   "source": [
    "import matplotlib as mpl\n",
    "def plot_community(G, partition, node_names, show_label=False):\n",
    "\n",
    "    norm = mpl.colors.Normalize(vmin=0, vmax=1)\n",
    "    cmap = cm.hot\n",
    "    m = cm.ScalarMappable(norm=norm, cmap=cmap)\n",
    "    \n",
    "    # loop over all partitions\n",
    "    for com in set(partition.values()) :\n",
    "\n",
    "        list_nodes = [nodes for nodes in partition.keys()\n",
    "                                    if partition[nodes] == com]\n",
    "        if len(list_nodes) == 1:\n",
    "            continue\n",
    "\n",
    "        print \"================================================================================================\"\n",
    "        print \"Community \" + str(com)\n",
    "        print \"================================================================================================\"\n",
    "        \n",
    "        topic_nodes = []\n",
    "        other_nodes = []       \n",
    "        topic_names = []\n",
    "        other_names = []\n",
    "        topic_labels = {}\n",
    "        other_labels = {}\n",
    "        other_degrees = []\n",
    "        selected_topics = []\n",
    "\n",
    "        H = G.subgraph(list_nodes)\n",
    "        for n in list_nodes:\n",
    "            name = node_names[n]\n",
    "            if 'topic' in name.lower():\n",
    "                topic_nodes.append(n)\n",
    "                topic_names.append(name)\n",
    "                topic_id = name.split(' ')[1]\n",
    "                selected_topics.append(int(topic_id))\n",
    "                topic_labels[n] = name\n",
    "            else:\n",
    "                other_nodes.append(n)\n",
    "                other_names.append(name)\n",
    "                other_labels[n] = name\n",
    "                node_degree = H.degree(n)\n",
    "                other_degrees.append(node_degree)\n",
    "                # print \" - \" + name + \" degree \" + str(node_degree)\n",
    "\n",
    "        if len(topic_nodes) == 1:\n",
    "            print \"Nothing interesting\"\n",
    "            print\n",
    "            continue\n",
    "                \n",
    "        ms2lda.print_topic_words(selected_topics=selected_topics, with_probabilities=False)\n",
    "        \n",
    "        fig = plt.figure(1, figsize=(16, 4))\n",
    "        ax = plt.subplot(111)\n",
    "        width = 0.8\n",
    "        for n in range(len(other_names)):\n",
    "            d = other_degrees[n]/float(len(topic_nodes))\n",
    "            c = m.to_rgba(d)\n",
    "            plt.bar(n, d, width=width, color=c)\n",
    "        ax.set_xticks(np.arange(len(other_names)) + (width*0.8))\n",
    "        ax.set_xticklabels(other_names, rotation=90) \n",
    "        plt.ylim((0, 1))\n",
    "        plt.title('Term degrees / no. of topics')\n",
    "        plt.show()\n",
    "        \n",
    "        plt.figure(1, figsize=(12, 12))\n",
    "        pos = nx.spring_layout(H, scale=2)\n",
    "        nx.draw_networkx_nodes(H, pos, topic_nodes, node_size=500, node_color='blue', alpha=0.5)\n",
    "        nx.draw_networkx_nodes(H, pos, other_nodes, node_size=500, cmap=plt.get_cmap('hot'), \n",
    "                               node_color=other_degrees, alpha=0.50)\n",
    "        nx.draw_networkx_edges(H, pos, alpha=0.25)\n",
    "        if show_label:\n",
    "            nx.draw_networkx_labels(H, pos, font_size=14, font_weight=\"bold\", font_color='black', labels=topic_labels)        \n",
    "            nx.draw_networkx_labels(H, pos, font_size=10, font_weight=\"normal\", font_color='black', labels=other_labels)\n",
    "        plt.title('Network of shared terms across topics')\n",
    "        plt.show()"
   ]
  },
  {
   "cell_type": "markdown",
   "metadata": {},
   "source": [
    "For each community, the first plot show the ratio between the degrees of terms in that community to the number of topics. If this ratio is 1, then the term is used by all topics in the community. If partitioning is sensible, we'd expect to see more terms with ratio = 1 here.\n",
    "\n",
    "The second plot shows the network relationship of topics, based on the terms."
   ]
  },
  {
   "cell_type": "code",
   "execution_count": null,
   "metadata": {
    "collapsed": false,
    "scrolled": false
   },
   "outputs": [],
   "source": [
    "plot_community(G, partition, node_names, show_label=True)"
   ]
  },
  {
   "cell_type": "code",
   "execution_count": null,
   "metadata": {
    "collapsed": true
   },
   "outputs": [],
   "source": []
  }
 ],
 "metadata": {
  "kernelspec": {
   "display_name": "Python 2",
   "language": "python",
   "name": "python2"
  },
  "language_info": {
   "codemirror_mode": {
    "name": "ipython",
    "version": 2
   },
   "file_extension": ".py",
   "mimetype": "text/x-python",
   "name": "python",
   "nbconvert_exporter": "python",
   "pygments_lexer": "ipython2",
   "version": "2.7.10"
  }
 },
 "nbformat": 4,
 "nbformat_minor": 0
}
