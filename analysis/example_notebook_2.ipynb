{
 "cells": [
  {
   "cell_type": "markdown",
   "metadata": {},
   "source": [
    "Example Notebook 2: Loading and Visualization of MS2LDA Analysis\n",
    "=============================================="
   ]
  },
  {
   "cell_type": "markdown",
   "metadata": {},
   "source": [
    "This notebook demonstrates how to load an existing MS2LDA analysis (see example_notebook_1) containing discovered LDA topics, Mass2Motifs, alongside the list of MS1 and MS2 peaks that have been putatively annotated with their elemental formulae. Subsequently, it is shown how the MS2LDA project file can be examined by displaying the Mass2Motif contents or loading it into MS2LDAvis, the visualization module."
   ]
  },
  {
   "cell_type": "code",
   "execution_count": null,
   "metadata": {
    "collapsed": false
   },
   "outputs": [],
   "source": [
    "%load_ext autoreload\n",
    "%autoreload 2\n",
    "%matplotlib inline\n",
    "\n",
    "import numpy as np\n",
    "import pandas as pd\n",
    "from IPython.display import display"
   ]
  },
  {
   "cell_type": "code",
   "execution_count": null,
   "metadata": {
    "collapsed": true
   },
   "outputs": [],
   "source": [
    "import os\n",
    "import sys\n",
    "basedir = '../MS2LDA/python'\n",
    "sys.path.append(basedir)\n",
    "\n",
    "from lda_for_fragments import Ms2Lda"
   ]
  },
  {
   "cell_type": "markdown",
   "metadata": {},
   "source": [
    "If there is any error above, please ensure that the basedir correctly points to the location of the MS2LDA Python codes."
   ]
  },
  {
   "cell_type": "markdown",
   "metadata": {},
   "source": [
    "<h2>1. Loading Existing MS2LDA</h2>"
   ]
  },
  {
   "cell_type": "markdown",
   "metadata": {},
   "source": [
    "Here it is shown how to load an existing MS2LDA project for Beer3 positive ionization mode used for analysis in the paper."
   ]
  },
  {
   "cell_type": "code",
   "execution_count": null,
   "metadata": {
    "collapsed": false
   },
   "outputs": [],
   "source": [
    "ms2lda = Ms2Lda.resume_from('projects/Manuscript_Beer3POSmode_EFassigner_ALLextended.project')"
   ]
  },
  {
   "cell_type": "code",
   "execution_count": null,
   "metadata": {
    "collapsed": false,
    "scrolled": true
   },
   "outputs": [],
   "source": [
    "# display(ms2lda.ms1)"
   ]
  },
  {
   "cell_type": "code",
   "execution_count": null,
   "metadata": {
    "collapsed": false
   },
   "outputs": [],
   "source": [
    "# display(ms2lda.ms2)"
   ]
  },
  {
   "cell_type": "markdown",
   "metadata": {},
   "source": [
    "<h2>2. Thresholding</h2>"
   ]
  },
  {
   "cell_type": "markdown",
   "metadata": {},
   "source": [
    "In order to study the MS2LDA project in as sensible manner, the document-topic and topic-word distributions produced by LDA has to be thresholded. The current thresholds on the distributions are used to produce the results described in the manuscript. It is expected that they form a good starting point for other analyses as well."
   ]
  },
  {
   "cell_type": "code",
   "execution_count": null,
   "metadata": {
    "collapsed": false
   },
   "outputs": [],
   "source": [
    "ms2lda.do_thresholding(th_doc_topic=0.05, th_topic_word=0.01)"
   ]
  },
  {
   "cell_type": "markdown",
   "metadata": {},
   "source": [
    "From this point onwards, we will refer to an LDA topic as a **Mass2Motif** (or shortnames M2M or motif) when interpreting the results."
   ]
  },
  {
   "cell_type": "markdown",
   "metadata": {},
   "source": [
    "<h2>3. Print Results</h2>"
   ]
  },
  {
   "cell_type": "markdown",
   "metadata": {},
   "source": [
    "Print in the notebook which fragment/loss features occur with probability above the thresholds defined above in each Mass2Motif."
   ]
  },
  {
   "cell_type": "code",
   "execution_count": null,
   "metadata": {
    "collapsed": false,
    "scrolled": true
   },
   "outputs": [],
   "source": [
    "ms2lda.print_motif_features()"
   ]
  },
  {
   "cell_type": "markdown",
   "metadata": {},
   "source": [
    "It is also possible to save the output to CSV files."
   ]
  },
  {
   "cell_type": "code",
   "execution_count": null,
   "metadata": {
    "collapsed": false
   },
   "outputs": [],
   "source": [
    "ms2lda.write_results('beer3pos_csv_out')"
   ]
  },
  {
   "cell_type": "markdown",
   "metadata": {},
   "source": [
    "<h2>4. Visualisation</h2>"
   ]
  },
  {
   "cell_type": "markdown",
   "metadata": {},
   "source": [
    "A visualisation module, MS2LDAvis, can be used to explore the results in an interactive manner. Please note that the MS2LDA project has to be thresholded to allow for visualzation. Nodes can be coloured as explained in the cells below. Furthermore, annotations as stored in csv files can be loaded into the visualization module. The visualization module will be loaded in a browser and can be stopped by closing the tab and subsequently interrupt the kernel using the 'Kernel tab' on top of the notebook."
   ]
  },
  {
   "cell_type": "code",
   "execution_count": null,
   "metadata": {
    "collapsed": true
   },
   "outputs": [],
   "source": [
    "# If True, an interactive visualisation is shown in a separate tab. \n",
    "# You need to interrupt the kernel to stop it once you're done with it \n",
    "# (from the menu above, Kernel > Interrupt).\n",
    "interactive=True"
   ]
  },
  {
   "cell_type": "code",
   "execution_count": null,
   "metadata": {
    "collapsed": false
   },
   "outputs": [],
   "source": [
    "# Used for graph visualisation in the interactive mode only. \n",
    "# Specifies the 'special' nodes to be coloured differently.\n",
    "special_nodes = [\n",
    "    # you can colour the MS1 peak in the graph\n",
    "    # 'doc_peakid', where peakid is the peak ID of the MS1 peak    \n",
    "    # ('doc_21758', 'gold'),\n",
    "    # you can also colour the Mass2Motif in the graph\n",
    "    # ('motif_0', '#ff1493')\n",
    "    'None'\n",
    "]\n",
    "\n",
    "# If nothing ..\n",
    "# special_nodes = None"
   ]
  },
  {
   "cell_type": "code",
   "execution_count": null,
   "metadata": {
    "collapsed": false
   },
   "outputs": [],
   "source": [
    "# read the annotation assigned to each Mass2Motif from a CSV file\n",
    "import csv\n",
    "motif_annotation = {}\n",
    "for item in csv.reader(open(\"annotations/beer3pos_annotation_Nov2015.csv\"), skipinitialspace=True):\n",
    "    key = int(item[0])\n",
    "    val = item[1]\n",
    "    print str(key) + '\\t' + val\n",
    "    motif_annotation[key] = val\n",
    "\n",
    "# here we set all the motifs having annotations as special nodes too\n",
    "motif_colour = '#CC0000'\n",
    "to_add_list = ['motif_' + str(x) for x in motif_annotation.keys()]\n",
    "for item in to_add_list:\n",
    "    special_nodes.append((item, motif_colour))\n",
    "\n",
    "# If nothing ..\n",
    "# motif_annotation = {} # or just leave the 'additional_info' parameter out when calling plot_lda_fragments below"
   ]
  },
  {
   "cell_type": "markdown",
   "metadata": {},
   "source": [
    "<h4>Run Visualisation</h4>"
   ]
  },
  {
   "cell_type": "code",
   "execution_count": null,
   "metadata": {
    "collapsed": false,
    "scrolled": true
   },
   "outputs": [],
   "source": [
    "ms2lda.plot_lda_fragments(interactive=interactive, to_highlight=special_nodes, \n",
    "                          additional_info=motif_annotation)"
   ]
  },
  {
   "cell_type": "code",
   "execution_count": null,
   "metadata": {
    "collapsed": true
   },
   "outputs": [],
   "source": []
  }
 ],
 "metadata": {
  "kernelspec": {
   "display_name": "Python 2",
   "language": "python",
   "name": "python2"
  },
  "language_info": {
   "codemirror_mode": {
    "name": "ipython",
    "version": 2
   },
   "file_extension": ".py",
   "mimetype": "text/x-python",
   "name": "python",
   "nbconvert_exporter": "python",
   "pygments_lexer": "ipython2",
   "version": "2.7.11"
  }
 },
 "nbformat": 4,
 "nbformat_minor": 0
}
